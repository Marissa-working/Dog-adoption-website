{
 "cells": [
  {
   "cell_type": "code",
   "execution_count": 2,
   "id": "cd1447e4",
   "metadata": {},
   "outputs": [],
   "source": [
    "import backend"
   ]
  },
  {
   "cell_type": "markdown",
   "id": "a3608815",
   "metadata": {},
   "source": [
    "# Test 1: dog search\n",
    "Details: we search the dogs nearby by zipcode <br>\n",
    "         if no result found by searching zipocode, then search by city and state<br>\n",
    "         if still no result found, then search by state"
   ]
  },
  {
   "cell_type": "code",
   "execution_count": 7,
   "id": "c8f6692e",
   "metadata": {},
   "outputs": [
    {
     "name": "stdout",
     "output_type": "stream",
     "text": [
      "Test 1: search by zipcode pass\n"
     ]
    }
   ],
   "source": [
    "# Case 1: there is result found by zipcode\n",
    "zipcode = 89101\n",
    "city = \"Las Vegas\"\n",
    "state = \"NV\"\n",
    "backend.dogs_perform_search(zipcode, city, state)\n",
    "result = backend.formatted_query\n",
    "# the expected should be searched by zipcode\n",
    "expected = \"\"\"SELECT d.name, d.breed_primary, d.age, d.shots_current,d.size, d.description\n",
    "                    FROM dog d, shelter s\n",
    "                    WHERE d.org_id = s.org_id \n",
    "                    AND d.contact_city = s.city\n",
    "                    AND s.zip = '89101' ;\"\"\"\n",
    "if(result == expected):\n",
    "    print(\"Test 1: search by zipcode pass\")\n",
    "else:\n",
    "    print(\"Error Test 1: search by zipcode fail\")"
   ]
  },
  {
   "cell_type": "code",
   "execution_count": 9,
   "id": "afe80084",
   "metadata": {},
   "outputs": [
    {
     "name": "stdout",
     "output_type": "stream",
     "text": [
      "Test 1: search by city,state pass\n"
     ]
    }
   ],
   "source": [
    "# Case 2: there is result found by city and state, as no result found by zipcode)\n",
    "zipcode = 96162\n",
    "city = \"Truckee\"\n",
    "state = \"CA\"\n",
    "backend.dogs_perform_search(zipcode, city, state)\n",
    "result = backend.formatted_query\n",
    "# the expected should be searched by city and state\n",
    "expected = \"\"\"SELECT d.name, d.breed_primary, d.age, d.shots_current,d.size, d.description\n",
    "                        FROM dog d, shelter s\n",
    "                        WHERE d.org_id = s.org_id \n",
    "                        AND d.contact_city = s.city\n",
    "                        AND s.city = 'Truckee' \n",
    "                        AND s.state = 'CA';\"\"\"\n",
    "if(result == expected):\n",
    "    print(\"Test 1: search by city,state pass\")\n",
    "else:\n",
    "    print(\"Error Test 1: search by city,state fail\")"
   ]
  },
  {
   "cell_type": "code",
   "execution_count": 11,
   "id": "e1939ccf",
   "metadata": {},
   "outputs": [
    {
     "name": "stdout",
     "output_type": "stream",
     "text": [
      "Test 1: search by state pass\n"
     ]
    }
   ],
   "source": [
    "# Case 3: no result found by city and state, as no result found by zipcode\n",
    "zipcode = 34112\n",
    "city = \"Naples\"\n",
    "state = \"FL\"\n",
    "backend.dogs_perform_search(zipcode, city, state)\n",
    "result = backend.formatted_query\n",
    "# the expected should be searched just by state\n",
    "expected = \"\"\"SELECT d.name, d.breed_primary, d.age, d.shots_current,d.size, d.description \n",
    "                        FROM dog d, shelter s\n",
    "                        WHERE s.state = 'FL' \n",
    "                        AND d.org_id = s.org_id\n",
    "                        AND d.contact_city = s. city;\"\"\"\n",
    "if(result == expected):\n",
    "     print(\"Test 1: search by state pass\")\n",
    "else:\n",
    "    print(\"Error Test 1: search by state fail\")"
   ]
  },
  {
   "cell_type": "markdown",
   "id": "d3e93451",
   "metadata": {},
   "source": [
    "# Test 2: Sort dog by given information\n",
    "Details: The user can enter dog information like sex, breed, size, age to find desirable dogs. <br>\n",
    "         We will filter the information by the users' given information. <br>\n",
    "         Test each query filteration is correct."
   ]
  },
  {
   "cell_type": "code",
   "execution_count": 4,
   "id": "337a1e96",
   "metadata": {},
   "outputs": [
    {
     "name": "stdout",
     "output_type": "stream",
     "text": [
      "Test 2: filter by breed and size pass\n"
     ]
    }
   ],
   "source": [
    "# Case 1: the user only enter breed and size\n",
    "zipcode = 93101\n",
    "city = \"Santa Barbara\"\n",
    "state = \"CA\"\n",
    "sex = None\n",
    "breed = 'Shepherd' \n",
    "size = 'large' \n",
    "age = None\n",
    "backend.sort_dog(zipcode, city, state, sex, breed, size, age)\n",
    "result = backend.formatted_query\n",
    "# the expected should be searched just by city, state, breed, size\n",
    "expected = \"\"\"SELECT d.name, d.breed_primary, d.age, d.shots_current,d.size, d.description \n",
    "                        FROM dog d, shelter s\n",
    "                        WHERE s.state = CA\n",
    "                        AND d.org_id = s.org_id\n",
    "                        AND d.contact_city = s. city AND d.breed_primary = Shepherd AND d.size = large;\"\"\"\n",
    "if(result == expected):\n",
    "     print(\"Test 2: filter by breed and size pass\")\n",
    "else:\n",
    "    print(\"Error Test 2: filter by breed and size fail\")"
   ]
  },
  {
   "cell_type": "code",
   "execution_count": 11,
   "id": "9cf414a3",
   "metadata": {},
   "outputs": [
    {
     "name": "stdout",
     "output_type": "stream",
     "text": [
      "Test 2: filter by age pass\n"
     ]
    }
   ],
   "source": [
    "# Case 2: the user only enter sex\n",
    "zipcode = 93101\n",
    "city = \"Santa Barbara\"\n",
    "state = \"CA\"\n",
    "sex = 'Male'\n",
    "breed = None \n",
    "size = None\n",
    "age = None\n",
    "backend.sort_dog(zipcode, city, state, sex, breed, size, age)\n",
    "result = backend.formatted_query\n",
    "# the expected should be searched just by city, state, sex\n",
    "expected = \"\"\"SELECT d.name, d.breed_primary, d.age, d.shots_current,d.size, d.description \n",
    "                        FROM dog d, shelter s\n",
    "                        WHERE s.state = CA\n",
    "                        AND d.org_id = s.org_id\n",
    "                        AND d.contact_city = s. city AND d.sex = Male;\"\"\"\n",
    "if(result == expected):\n",
    "     print(\"Test 2: filter by age pass\")\n",
    "else:\n",
    "    print(\"Error Test 2: filter by age fail\")"
   ]
  },
  {
   "cell_type": "code",
   "execution_count": 12,
   "id": "783bccc7",
   "metadata": {},
   "outputs": [
    {
     "name": "stdout",
     "output_type": "stream",
     "text": [
      "Test 2: filter by sex, size, age pass\n"
     ]
    }
   ],
   "source": [
    "# Case 3: the user only enter sex, size, age\n",
    "zipcode = 93101\n",
    "city = \"Santa Barbara\"\n",
    "state = \"CA\"\n",
    "sex = 'Male'\n",
    "breed = None \n",
    "size = 'Small'\n",
    "age = 'Adult'\n",
    "backend.sort_dog(zipcode, city, state, sex, breed, size, age)\n",
    "result = backend.formatted_query\n",
    "# the expected should be searched just by city, state, sex\n",
    "expected = \"\"\"SELECT d.name, d.breed_primary, d.age, d.shots_current,d.size, d.description \n",
    "                        FROM dog d, shelter s\n",
    "                        WHERE s.state = CA\n",
    "                        AND d.org_id = s.org_id\n",
    "                        AND d.contact_city = s. city AND d.sex = Male AND d.size = Small AND d.age = Adult;\"\"\"\n",
    "if(result == expected):\n",
    "     print(\"Test 2: filter by sex, size, age pass\")\n",
    "else:\n",
    "    print(\"Error Test 2: filter by sex, size, age fail\")"
   ]
  },
  {
   "cell_type": "markdown",
   "id": "b3bd704a",
   "metadata": {},
   "source": [
    "# Test 3: Shelter insertion\n",
    "Details: The users can enter org_id, state, city, zip to insert new shelter.<br>"
   ]
  },
  {
   "cell_type": "code",
   "execution_count": 19,
   "id": "5b38f3a8",
   "metadata": {},
   "outputs": [
    {
     "name": "stdout",
     "output_type": "stream",
     "text": [
      "Test 3: an regular successful insertion pass\n"
     ]
    }
   ],
   "source": [
    "# Case 1: an regular successful insertion\n",
    "org_id = 'NV183'\n",
    "shelter_city = 'Las Vegas'\n",
    "shelter_state = 'NV'\n",
    "zip_code = 89164\n",
    "backend.insert_shelter(org_id,shelter_city,shelter_state, zip_code)\n",
    "result = backend.formatted_query\n",
    "# the expected should be searched just by city, state, sex\n",
    "expected = \"\"\"INSERT INTO shelter (org_id, state, city, zip)\n",
    "                    VALUES('NV183','Las Vegas','NV','89164');\"\"\"\n",
    "if(result == expected):\n",
    "     print(\"Test 3: an regular successful insertion pass\")\n",
    "else:\n",
    "    print(\"Error Test 3: an regular successful insertion fail\")"
   ]
  },
  {
   "cell_type": "markdown",
   "id": "74f2938a",
   "metadata": {},
   "source": [
    "# Test 4: pet care search and sort\n",
    "Details: we search the pet care nearby by zipcode <br>\n",
    "         if no result found by searching zipocode, then search by city and state<br>\n",
    "         if still no result found, then search by state <br>\n",
    "         The result should also sort by review ratings from the best to the worst and only given the first 20 results."
   ]
  },
  {
   "cell_type": "code",
   "execution_count": 8,
   "id": "a6785ef3",
   "metadata": {},
   "outputs": [
    {
     "name": "stdout",
     "output_type": "stream",
     "text": [
      "Test 4: search by zipcode, sort by rating pass\n"
     ]
    }
   ],
   "source": [
    "# Case 1: there is result found by zipcode\n",
    "zipcode = 89101\n",
    "city = \"Las Vegas\"\n",
    "state = \"NV\"\n",
    "backend.sort_pet_store(zipcode, city, state)\n",
    "result = backend.formatted_query\n",
    "# the expected should be searched by zipcode, order by rating descending, limit 20\n",
    "expected = \"\"\"SELECT stars, name, categories  \n",
    "                          FROM pet_care c \n",
    "                          WHERE state = 'NV'\n",
    "                          ORDER BY c.stars DESC\n",
    "                          LIMIT 20;\"\"\"\n",
    "if(result == expected):\n",
    "    print(\"Test 4: search by zipcode, sort by rating pass\")\n",
    "else:\n",
    "    print(\"Error Test 4: search by zipcode, sort by rating fail\")"
   ]
  },
  {
   "cell_type": "code",
   "execution_count": 11,
   "id": "5bb8c119",
   "metadata": {},
   "outputs": [
    {
     "name": "stdout",
     "output_type": "stream",
     "text": [
      "Test 4: search by city,state, sort by rating pass\n"
     ]
    }
   ],
   "source": [
    "# Case 2: there is result found by city and state, as no result found by zipcode\n",
    "zipcode = 96162\n",
    "city = \"Truckee\"\n",
    "state = \"CA\"\n",
    "backend.sort_pet_store(zipcode, city, state)\n",
    "result = backend.formatted_query\n",
    "# the expected should be searched by city and state, order by rating descending, limit 20\n",
    "expected = \"\"\"SELECT stars, name, categories  \n",
    "                          FROM pet_care c \n",
    "                          WHERE city = 'Truckee' \n",
    "                          AND state = 'CA'\n",
    "                          ORDER BY c.stars DESC\n",
    "                          LIMIT 20;\"\"\"\n",
    "if(result == expected):\n",
    "    print(\"Test 4: search by city,state, sort by rating pass\")\n",
    "else:\n",
    "    print(\"Error Test 4: search by city,state, sort by rating fail\")"
   ]
  },
  {
   "cell_type": "code",
   "execution_count": 6,
   "id": "b01fa5b3",
   "metadata": {},
   "outputs": [
    {
     "name": "stdout",
     "output_type": "stream",
     "text": [
      "SELECT stars, name, categories  \n",
      "                          FROM pet_care c \n",
      "                          WHERE state = 'FL'\n",
      "                          ORDER BY c.stars DESC\n",
      "                          LIMIT 20;\n",
      "Error Test 1: search by state fail\n"
     ]
    }
   ],
   "source": [
    "# Case 3: no result found by city and state, as no result found by zipcode\n",
    "zipcode = 34112\n",
    "city = \"Naples\"\n",
    "state = \"FL\"\n",
    "backend.sort_pet_store(zipcode, city, state)\n",
    "result = backend.formatted_query\n",
    "# the expected should be searched just by state, order by rating descending, limit 20\n",
    "expected = \"\"\"SELECT stars, name, categories  \n",
    "                          FROM pet_care c \n",
    "                          WHERE state = 'FL'\n",
    "                          ORDER BY c.stars DESC\n",
    "                          LIMIT 20;\"\"\"\n",
    "if(result == expected):\n",
    "     print(\"Test 4: search by state, sort by rating pass\")\n",
    "else:\n",
    "    print(\"Error Test 4: search by state, sort by rating fail\")"
   ]
  }
 ],
 "metadata": {
  "kernelspec": {
   "display_name": "Python 3 (ipykernel)",
   "language": "python",
   "name": "python3"
  },
  "language_info": {
   "codemirror_mode": {
    "name": "ipython",
    "version": 3
   },
   "file_extension": ".py",
   "mimetype": "text/x-python",
   "name": "python",
   "nbconvert_exporter": "python",
   "pygments_lexer": "ipython3",
   "version": "3.9.12"
  }
 },
 "nbformat": 4,
 "nbformat_minor": 5
}
